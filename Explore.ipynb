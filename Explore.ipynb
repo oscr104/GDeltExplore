{
 "cells": [
  {
   "cell_type": "code",
   "execution_count": 1,
   "metadata": {},
   "outputs": [
    {
     "name": "stdout",
     "output_type": "stream",
     "text": [
      "here\n"
     ]
    }
   ],
   "source": [
    "import gdelt\n",
    "import networkx as nx \n",
    "import pandas as pd\n",
    "import plotly.express as px\n",
    "import re"
   ]
  },
  {
   "cell_type": "code",
   "execution_count": 2,
   "metadata": {},
   "outputs": [],
   "source": [
    "def summarise(df):\n",
    "    print(df[[\"SQLDATE\", \"Actor1Name\",\"Actor2Name\",\"CAMEOCodeDescription\",  ]])"
   ]
  },
  {
   "cell_type": "code",
   "execution_count": 3,
   "metadata": {},
   "outputs": [],
   "source": [
    "gd2 = gdelt.gdelt(version=2)"
   ]
  },
  {
   "cell_type": "code",
   "execution_count": 16,
   "metadata": {},
   "outputs": [
    {
     "name": "stdout",
     "output_type": "stream",
     "text": [
      "(542866, 62)\n",
      "|    |   GLOBALEVENTID |   SQLDATE |   MonthYear |   Year |   FractionDate | Actor1Code   | Actor1Name   | Actor1CountryCode   |   Actor1KnownGroupCode |   Actor1EthnicCode |   Actor1Religion1Code |   Actor1Religion2Code | Actor1Type1Code   |   Actor1Type2Code |   Actor1Type3Code | Actor2Code   | Actor2Name   | Actor2CountryCode   |   Actor2KnownGroupCode |   Actor2EthnicCode |   Actor2Religion1Code |   Actor2Religion2Code |   Actor2Type1Code |   Actor2Type2Code |   Actor2Type3Code |   IsRootEvent |   EventCode | CAMEOCodeDescription                                      |   EventBaseCode |   EventRootCode |   QuadClass |   GoldsteinScale |   NumMentions |   NumSources |   NumArticles |   AvgTone |   Actor1Geo_Type | Actor1Geo_FullName                   | Actor1Geo_CountryCode   | Actor1Geo_ADM1Code   |   Actor1Geo_ADM2Code |   Actor1Geo_Lat |   Actor1Geo_Long | Actor1Geo_FeatureID   |   Actor2Geo_Type | Actor2Geo_FullName                   | Actor2Geo_CountryCode   | Actor2Geo_ADM1Code   |   Actor2Geo_ADM2Code |   Actor2Geo_Lat |   Actor2Geo_Long | Actor2Geo_FeatureID   |   ActionGeo_Type | ActionGeo_FullName                   | ActionGeo_CountryCode   | ActionGeo_ADM1Code   |   ActionGeo_ADM2Code |   ActionGeo_Lat |   ActionGeo_Long | ActionGeo_FeatureID   |      DATEADDED | SOURCEURL                                                                                                                     |\n",
      "|---:|----------------:|----------:|------------:|-------:|---------------:|:-------------|:-------------|:--------------------|-----------------------:|-------------------:|----------------------:|----------------------:|:------------------|------------------:|------------------:|:-------------|:-------------|:--------------------|-----------------------:|-------------------:|----------------------:|----------------------:|------------------:|------------------:|------------------:|--------------:|------------:|:----------------------------------------------------------|----------------:|----------------:|------------:|-----------------:|--------------:|-------------:|--------------:|----------:|-----------------:|:-------------------------------------|:------------------------|:---------------------|---------------------:|----------------:|-----------------:|:----------------------|-----------------:|:-------------------------------------|:------------------------|:---------------------|---------------------:|----------------:|-----------------:|:----------------------|-----------------:|:-------------------------------------|:------------------------|:---------------------|---------------------:|----------------:|-----------------:|:----------------------|---------------:|:------------------------------------------------------------------------------------------------------------------------------|\n",
      "|  0 |      1078332683 |  20220101 |      202201 |   2022 |           2022 | BGR          | BULGARIAN    | BGR                 |                    nan |                nan |                   nan |                   nan | nan               |               nan |               nan | GRC          | GREECE       | GRC                 |                    nan |                nan |                   nan |                   nan |               nan |               nan |               nan |             1 |         036 | Express intent to meet or negotiate                       |             036 |              03 |           1 |              4   |            10 |            1 |            10 |   2.28571 |                1 | Romania                              | RO                      | RO                   |                  nan |        46       |          25      | RO                    |                1 | Romania                              | RO                      | RO                   |                  nan |        46       |             25   | RO                    |                1 | Romania                              | RO                      | RO                   |                  nan |        46       |          25      | RO                    | 20230101014500 | https://www.greekherald.com/news/273296261/more-bulgarians-in-greece-for-this-new-year-compared-to-last-year                  |\n",
      "|  1 |      1078332684 |  20220101 |      202201 |   2022 |           2022 | GOV          | WATER MINIST | nan                 |                    nan |                nan |                   nan |                   nan | GOV               |               nan |               nan | MYS          | MALAYSIA     | MYS                 |                    nan |                nan |                   nan |                   nan |               nan |               nan |               nan |             0 |         130 | Threaten, not specified below                             |             130 |              13 |           3 |             -4.4 |             8 |            1 |             8 |  -1.5625  |                4 | Kuala Lumpur, Kuala Lumpur, Malaysia | MY                      | MY14                 |                18585 |         3.16667 |         101.7    | -2403010              |                4 | Kuala Lumpur, Kuala Lumpur, Malaysia | MY                      | MY14                 |                18585 |         3.16667 |            101.7 | -2403010              |                4 | Kuala Lumpur, Kuala Lumpur, Malaysia | MY                      | MY14                 |                18585 |         3.16667 |         101.7    | -2403010              | 20230101014500 | https://www.thestar.com.my/lifestyle/living/2023/01/01/yearstarter-2023-environment---climate-change-was-the-talk-of-the-town |\n",
      "|  2 |      1078332685 |  20220101 |      202201 |   2022 |           2022 | MYSGOV       | MALAYSIA     | MYS                 |                    nan |                nan |                   nan |                   nan | GOV               |               nan |               nan | MYS          | MALAYSIA     | MYS                 |                    nan |                nan |                   nan |                   nan |               nan |               nan |               nan |             0 |         130 | Threaten, not specified below                             |             130 |              13 |           3 |             -4.4 |             2 |            1 |             2 |  -1.5625  |                4 | Kuala Lumpur, Kuala Lumpur, Malaysia | MY                      | MY14                 |                18585 |         3.16667 |         101.7    | -2403010              |                4 | Kuala Lumpur, Kuala Lumpur, Malaysia | MY                      | MY14                 |                18585 |         3.16667 |            101.7 | -2403010              |                4 | Kuala Lumpur, Kuala Lumpur, Malaysia | MY                      | MY14                 |                18585 |         3.16667 |         101.7    | -2403010              | 20230101014500 | https://www.thestar.com.my/lifestyle/living/2023/01/01/yearstarter-2023-environment---climate-change-was-the-talk-of-the-town |\n",
      "|  3 |      1078332686 |  20220101 |      202201 |   2022 |           2022 | YEMGOV       | YEMEN        | YEM                 |                    nan |                nan |                   nan |                   nan | GOV               |               nan |               nan | nan          | nan          | nan                 |                    nan |                nan |                   nan |                   nan |               nan |               nan |               nan |             0 |         130 | Threaten, not specified below                             |             130 |              13 |           3 |             -4.4 |             5 |            1 |             5 | -10.6557  |                4 | Sanaa, Sana', Yemen                                      | YM                      | YM16                 |                32956 |        15.3547  |          44.2067 | -3191442              |                0 | nan                                  | nan                     | nan                  |                  nan |       nan       |            nan   | nan                   |                4 | Sanaa, Sana', Yemen                                      | YM                      | YM16                 |                32956 |        15.3547  |          44.2067 | -3191442              | 20230101014500 | https://menafn.com/1105371149/Yemens-Warring-Sides-Gear-Up-For-Conflict-In-2023-Amid-Stalled-Peace-Talks                      |\n",
      "|  4 |      1078332687 |  20220101 |      202201 |   2022 |           2022 | YEMGOV       | YEMEN        | YEM                 |                    nan |                nan |                   nan |                   nan | GOV               |               nan |               nan | nan          | nan          | nan                 |                    nan |                nan |                   nan |                   nan |               nan |               nan |               nan |             0 |         150 | Demonstrate military or police power, not specified below |             150 |              15 |           4 |             -7.2 |             5 |            1 |             5 | -10.6557  |                4 | Sanaa, Sana', Yemen                                      | YM                      | YM16                 |                32956 |        15.3547  |          44.2067 | -3191442              |                0 | nan                                  | nan                     | nan                  |                  nan |       nan       |            nan   | nan                   |                4 | Sanaa, Sana', Yemen                                      | YM                      | YM16                 |                32956 |        15.3547  |          44.2067 | -3191442              | 20230101014500 | https://menafn.com/1105371149/Yemens-Warring-Sides-Gear-Up-For-Conflict-In-2023-Amid-Stalled-Peace-Talks                      |\n"
     ]
    }
   ],
   "source": [
    "results = gd2.Search(['2023 01 01', '2023 01 07'], table='events', coverage=True)\n",
    "print(results.shape)\n",
    "print(results.head().to_markdown())"
   ]
  },
  {
   "cell_type": "code",
   "execution_count": 17,
   "metadata": {},
   "outputs": [
    {
     "name": "stdout",
     "output_type": "stream",
     "text": [
      "[' Protest violently, riot'\n",
      " ' Engage in popular protest, not specified below'\n",
      " ' Ease popular protest ']\n"
     ]
    }
   ],
   "source": [
    "print(results[results[\"CAMEOCodeDescription\"].str.contains(r\"[Pp]rotest\")][\"CAMEOCodeDescription\"].unique())"
   ]
  },
  {
   "cell_type": "code",
   "execution_count": 18,
   "metadata": {},
   "outputs": [
    {
     "name": "stdout",
     "output_type": "stream",
     "text": [
      "[]\n"
     ]
    }
   ],
   "source": [
    "results_ = results.dropna(subset=\"Actor1Name\")\n",
    "print(results_[results_[\"Actor1Name\"].str.contains(\"NATIONALIST\")][\"Actor1Name\"].unique())"
   ]
  },
  {
   "cell_type": "code",
   "execution_count": 19,
   "metadata": {},
   "outputs": [
    {
     "name": "stdout",
     "output_type": "stream",
     "text": [
      "(767, 62)\n",
      "|      |   GLOBALEVENTID |   SQLDATE |   MonthYear |   Year |   FractionDate | Actor1Code   | Actor1Name   | Actor1CountryCode   |   Actor1KnownGroupCode |   Actor1EthnicCode |   Actor1Religion1Code |   Actor1Religion2Code | Actor1Type1Code   |   Actor1Type2Code |   Actor1Type3Code | Actor2Code   | Actor2Name          |   Actor2CountryCode |   Actor2KnownGroupCode |   Actor2EthnicCode |   Actor2Religion1Code |   Actor2Religion2Code | Actor2Type1Code   | Actor2Type2Code   |   Actor2Type3Code |   IsRootEvent |   EventCode | CAMEOCodeDescription                           |   EventBaseCode |   EventRootCode |   QuadClass |   GoldsteinScale |   NumMentions |   NumSources |   NumArticles |   AvgTone |   Actor1Geo_Type | Actor1Geo_FullName                 | Actor1Geo_CountryCode   | Actor1Geo_ADM1Code   |   Actor1Geo_ADM2Code |   Actor1Geo_Lat |   Actor1Geo_Long |   Actor1Geo_FeatureID |   Actor2Geo_Type | Actor2Geo_FullName        | Actor2Geo_CountryCode   | Actor2Geo_ADM1Code   |   Actor2Geo_ADM2Code |   Actor2Geo_Lat |   Actor2Geo_Long |   Actor2Geo_FeatureID |   ActionGeo_Type | ActionGeo_FullName                 | ActionGeo_CountryCode   | ActionGeo_ADM1Code   |   ActionGeo_ADM2Code |   ActionGeo_Lat |   ActionGeo_Long |   ActionGeo_FeatureID |      DATEADDED | SOURCEURL                                                                                                                           |\n",
      "|-----:|----------------:|----------:|------------:|-------:|---------------:|:-------------|:-------------|:--------------------|-----------------------:|-------------------:|----------------------:|----------------------:|:------------------|------------------:|------------------:|:-------------|:--------------------|--------------------:|-----------------------:|-------------------:|----------------------:|----------------------:|:------------------|:------------------|------------------:|--------------:|------------:|:-----------------------------------------------|----------------:|----------------:|------------:|-----------------:|--------------:|-------------:|--------------:|----------:|-----------------:|:-----------------------------------|:------------------------|:---------------------|---------------------:|----------------:|-----------------:|----------------------:|-----------------:|:--------------------------|:------------------------|:---------------------|---------------------:|----------------:|-----------------:|----------------------:|-----------------:|:-----------------------------------|:------------------------|:---------------------|---------------------:|----------------:|-----------------:|----------------------:|---------------:|:------------------------------------------------------------------------------------------------------------------------------------|\n",
      "| 3062 |      1078329468 |  20230101 |      202301 |   2023 |           2023 | CVL          | RESIDENTS    | nan                 |                    nan |                nan |                   nan |                   nan | CVL               |               nan |               nan | nan          | nan                 |                 nan |                    nan |                nan |                   nan |                   nan | nan               | nan               |               nan |             1 |         145 | Protest violently, riot                        |             145 |              14 |           3 |             -7.5 |            30 |            1 |            20 |  -2.8777  |                0 | nan                                | nan                     | nan                  |                  nan |        nan      |         nan      |         nan           |                0 | nan                       | nan                     | nan                  |                  nan |        nan      |         nan      |         nan           |                0 | nan                                | nan                     | nan                  |                  nan |        nan      |         nan      |         nan           | 20230101004500 | https://www.castanet.net/news/BC/403988/North-Van-fire-victim-says-his-apartment-was-looted                                         |\n",
      "| 4098 |      1078336861 |  20230101 |      202301 |   2023 |           2023 | AFG          | AFGHAN       | AFG                 |                    nan |                nan |                   nan |                   nan | nan               |               nan |               nan | GOVEDU       | MINIST OF EDUCATION |                 nan |                    nan |                nan |                   nan |                   nan | GOV               | EDU               |               nan |             1 |         140 | Engage in popular protest, not specified below |             140 |              14 |           3 |             -6.5 |             8 |            1 |             8 |  -6.23853 |                4 | Kabul, Kabol, Afghanistan          | AF                      | AF13                 |                 3580 |         34.5167 |          69.1833 |          -3.37844e+06 |                4 | Kabul, Kabol, Afghanistan | AF                      | AF13                 |                 3580 |         34.5167 |          69.1833 |          -3.37844e+06 |                4 | Kabul, Kabol, Afghanistan          | AF                      | AF13                 |                 3580 |         34.5167 |          69.1833 |          -3.37844e+06 | 20230101031500 | https://www.thenews.com.pk/print/1026017-afghan-educator-vows-to-fight-women-ban-in-universities                                    |\n",
      "| 4180 |      1078336943 |  20230101 |      202301 |   2023 |           2023 | CVL          | CITIZEN      | nan                 |                    nan |                nan |                   nan |                   nan | CVL               |               nan |               nan | nan          | nan                 |                 nan |                    nan |                nan |                   nan |                   nan | nan               | nan               |               nan |             0 |         145 | Protest violently, riot                        |             145 |              14 |           3 |             -7.5 |            10 |            1 |            10 |  -2.93255 |                4 | Machhar Colony, Sindh, Pakistan    | PK                      | PK05                 |                40395 |         24.8597 |          66.9801 |           1.05256e+07 |                0 | nan                       | nan                     | nan                  |                  nan |        nan      |         nan      |         nan           |                4 | Machhar Colony, Sindh, Pakistan    | PK                      | PK05                 |                40395 |         24.8597 |          66.9801 |           1.05256e+07 | 20230101031500 | https://www.thenews.com.pk/print/1025889-celebrating-the-deluge                                                                     |\n",
      "| 5326 |      1078333419 |  20230101 |      202301 |   2023 |           2023 | CRM          | RUNNER       | nan                 |                    nan |                nan |                   nan |                   nan | CRM               |               nan |               nan | nan          | nan                 |                 nan |                    nan |                nan |                   nan |                   nan | nan               | nan               |               nan |             1 |         145 | Protest violently, riot                        |             145 |              14 |           3 |             -7.5 |             6 |            1 |             6 |  -2.79296 |                4 | Gutu, Masvingo, Zimbabwe           | ZI                      | ZI08                 |                40197 |        -19.6445 |          31.1518 |          -2.312e+06   |                0 | nan                       | nan                     | nan                  |                  nan |        nan      |         nan      |         nan           |                4 | Gutu, Masvingo, Zimbabwe           | ZI                      | ZI08                 |                40197 |        -19.6445 |          31.1518 |          -2.312e+06   | 20230101020000 | http://www.thestandard.co.zw/index.php/opinion-amp-analysis/article/1443/ordinary-citizens-or-foreign-capital-july-moyo-must-choose |\n",
      "| 5327 |      1078333420 |  20230101 |      202301 |   2023 |           2023 | CRM          | RUNNER       | nan                 |                    nan |                nan |                   nan |                   nan | CRM               |               nan |               nan | nan          | nan                 |                 nan |                    nan |                nan |                   nan |                   nan | nan               | nan               |               nan |             1 |         145 | Protest violently, riot                        |             145 |              14 |           3 |             -7.5 |             6 |            1 |             6 |  -2.79296 |                4 | Harare, Mashonaland East, Zimbabwe | ZI                      | ZI04                 |                40197 |        -17.8178 |          31.0447 |          -2.31229e+06 |                0 | nan                       | nan                     | nan                  |                  nan |        nan      |         nan      |         nan           |                4 | Harare, Mashonaland East, Zimbabwe | ZI                      | ZI04                 |                40197 |        -17.8178 |          31.0447 |          -2.31229e+06 | 20230101020000 | http://www.thestandard.co.zw/index.php/opinion-amp-analysis/article/1443/ordinary-citizens-or-foreign-capital-july-moyo-must-choose |\n"
     ]
    }
   ],
   "source": [
    "int_cats = results[results[\"CAMEOCodeDescription\"].isin([\" Engage in popular protest, not specified below\", \" Protest violently, riot\"])]\n",
    "print(int_cats.shape)\n",
    "print(int_cats.head().to_markdown())"
   ]
  },
  {
   "cell_type": "code",
   "execution_count": 20,
   "metadata": {},
   "outputs": [
    {
     "data": {
      "application/vnd.plotly.v1+json": {
       "config": {
        "plotlyServerURL": "https://plot.ly"
       },
       "data": [
        {
         "alignmentgroup": "True",
         "bingroup": "x",
         "hovertemplate": "CAMEOCodeDescription= Protest violently, riot<br>Actor1CountryCode=%{x}<br>count=%{y}<extra></extra>",
         "legendgroup": " Protest violently, riot",
         "marker": {
          "color": "#636efa",
          "pattern": {
           "shape": ""
          }
         },
         "name": " Protest violently, riot",
         "offsetgroup": " Protest violently, riot",
         "orientation": "v",
         "showlegend": true,
         "type": "histogram",
         "x": [
          null,
          null,
          null,
          null,
          null,
          null,
          null,
          null,
          null,
          null,
          null,
          "IND",
          "IND",
          "BOL",
          "BOL",
          null,
          null,
          null,
          null,
          null,
          null,
          null,
          null,
          null,
          "PSE",
          "PSE",
          null,
          "DEU",
          "DEU",
          "UKR",
          "UKR",
          "SEA",
          "GBR",
          null,
          null,
          null,
          null,
          "USA",
          null,
          null,
          null,
          "BEN",
          "PAK",
          null,
          null,
          "USA",
          "USA",
          "USA",
          "USA",
          "USA",
          "USA",
          null,
          null,
          "USA",
          null,
          null,
          null,
          null,
          null,
          "USA",
          "USA",
          null,
          "USA",
          "SWE",
          "SWE",
          "SWE",
          "USA",
          "USA",
          null,
          null,
          "NGA",
          "EGY",
          "EGY",
          null,
          null,
          "USA",
          "EGY",
          "EGY",
          "EGY",
          "EGY",
          "HTI",
          "BOL",
          "EGY",
          "USA",
          null,
          null,
          "SEN",
          null,
          null,
          "EGY",
          "EGY",
          "UKR",
          "UKR",
          "USA",
          "USA",
          "USA",
          "CHN",
          "CHN",
          "USA",
          null,
          null,
          null,
          "EGY",
          null,
          "CHN",
          "CHN",
          "EGY",
          "EGY",
          null,
          null,
          "USA",
          "USA",
          "USA",
          "USA",
          "USA",
          "USA",
          null,
          null,
          null,
          "USA",
          "USA",
          null,
          null,
          "HTI",
          "CAN",
          null,
          null,
          null,
          "PAK",
          "EGY",
          "EGY",
          "USA",
          "USA",
          "USA",
          null,
          "USA",
          null,
          null,
          null,
          "USA",
          "BRA",
          "BHS",
          null,
          null,
          "IND",
          "IND",
          null,
          null,
          null,
          "USA",
          "POL",
          "POL",
          null,
          "USA",
          null,
          null,
          "ISR",
          "ISR",
          "ISR",
          null,
          null,
          "USA",
          "USA",
          null,
          null,
          null,
          null,
          null,
          null,
          "USA",
          "USA",
          "BHS",
          null,
          "USA",
          null,
          "UKR",
          "UKR",
          null,
          "USA",
          "USA",
          "BHS",
          null,
          null,
          null,
          null,
          "USA",
          "USA",
          null,
          null,
          null,
          "USA",
          "USA",
          "USA",
          "USA",
          "USA",
          "USA",
          "USA",
          "USA",
          "USA",
          "EGY",
          "EGY",
          "EGY",
          "EGY",
          "EGY",
          "EGY",
          null,
          null,
          null,
          null,
          null,
          "USA",
          "USA",
          null,
          null,
          "USA",
          null,
          "USA",
          "USA",
          "ETH",
          "ETH",
          "ETH",
          "ETH",
          "USA",
          "FRA",
          null,
          null,
          "DEU",
          null,
          null,
          "USA",
          "USA",
          null,
          null,
          null,
          "PAK",
          "PAK",
          null,
          "DEU",
          "DEU",
          null,
          "IND",
          "USA",
          null,
          null,
          null,
          null,
          null,
          null,
          null,
          null,
          null,
          null,
          null,
          null,
          "ISR",
          "ISR",
          "ISR",
          "USA",
          "ISR",
          "ISR",
          "ISR",
          "USA",
          null,
          null,
          "USA",
          "USA",
          "USA",
          "USA",
          "USA",
          "USA",
          "USA",
          null,
          "FRA",
          null,
          null,
          "IND",
          "IND",
          "USA",
          "GRC",
          "JOR",
          null,
          null,
          null,
          null,
          "RUS",
          null,
          null,
          null,
          null,
          "DEU",
          null,
          null,
          "KGZ",
          "KGZ",
          "CAF",
          "FRA",
          "FRA",
          "CHN",
          "CHN",
          "GRC",
          "GRC",
          "KAZ",
          null,
          "USA",
          null,
          null,
          "RUS",
          "RUS",
          "SYR",
          "USA",
          "USA",
          "EGY",
          "USA",
          "MEX",
          "USA",
          "GBR",
          "MEX",
          "MEX",
          "MEX",
          "NOR",
          "NOR",
          "PSE",
          "PSE",
          "KWT",
          "KWT",
          "PAK",
          null,
          "PAK",
          null,
          "MEX",
          "MEX",
          "SYR",
          null,
          null,
          "MEX",
          "MEX",
          "USA",
          null,
          "MEX",
          null,
          null,
          null,
          "SYR",
          "SYR",
          null,
          null,
          "MEX",
          null,
          "USA",
          null,
          null,
          null,
          null,
          null,
          "MEX",
          "USA",
          "USA",
          "USA",
          "USA",
          "BEL",
          "AFR",
          "AGO",
          "USA",
          null,
          "USA",
          "USA",
          null,
          null,
          "GBR",
          null,
          null,
          null,
          null,
          "USA",
          "AFG",
          null,
          null,
          "MEX",
          null,
          null,
          "PAK",
          "ISR",
          "PSE",
          "PSE",
          "PSE",
          "PSE",
          null,
          null,
          null,
          null,
          null,
          null,
          null,
          "DEU",
          "DEU",
          null,
          null,
          "USA",
          null,
          "DEU",
          "DEU",
          null,
          null,
          null,
          "PER",
          null,
          null,
          "ISR",
          "ISR",
          null,
          null,
          null,
          null,
          "USA",
          "NLD",
          "CAF",
          "FRA",
          "FRA",
          null,
          "USA",
          "USA",
          null,
          "IND",
          "IND",
          "PER",
          "IRN",
          "IRN",
          "IRN",
          "IRN",
          null,
          "USA",
          null,
          null,
          null,
          "USA",
          null,
          null,
          null,
          "PER",
          "IRN",
          null,
          "UKR",
          null
         ],
         "xaxis": "x",
         "yaxis": "y"
        },
        {
         "alignmentgroup": "True",
         "bingroup": "x",
         "hovertemplate": "CAMEOCodeDescription= Engage in popular protest, not specified below<br>Actor1CountryCode=%{x}<br>count=%{y}<extra></extra>",
         "legendgroup": " Engage in popular protest, not specified below",
         "marker": {
          "color": "#EF553B",
          "pattern": {
           "shape": ""
          }
         },
         "name": " Engage in popular protest, not specified below",
         "offsetgroup": " Engage in popular protest, not specified below",
         "orientation": "v",
         "showlegend": true,
         "type": "histogram",
         "x": [
          "AFG",
          null,
          "USA",
          "IND",
          null,
          null,
          null,
          null,
          null,
          null,
          null,
          "BRA",
          "BRA",
          null,
          null,
          null,
          null,
          null,
          null,
          null,
          null,
          "IND",
          null,
          null,
          "IND",
          null,
          "JOR",
          null,
          null,
          "USA",
          null,
          "ARM",
          "ARM",
          "BLR",
          "BLR",
          "BLR",
          "KAZ",
          "KAZ",
          "KAZ",
          "KGZ",
          "KGZ",
          null,
          null,
          null,
          null,
          null,
          null,
          null,
          null,
          null,
          null,
          null,
          null,
          "IRN",
          "IRN",
          null,
          null,
          null,
          null,
          "USA",
          null,
          "IND",
          null,
          null,
          null,
          null,
          null,
          null,
          null,
          null,
          "PAK",
          null,
          null,
          null,
          "USA",
          "ZWE",
          "ZWE",
          null,
          "MMR",
          "MMR",
          null,
          null,
          null,
          "USA",
          null,
          null,
          null,
          null,
          "TUR",
          null,
          null,
          null,
          "PHL",
          null,
          null,
          null,
          null,
          null,
          null,
          null,
          null,
          null,
          null,
          "IND",
          "IND",
          null,
          null,
          "KOR",
          null,
          "USA",
          "IND",
          null,
          "BEL",
          null,
          null,
          null,
          "DNK",
          "DNK",
          "DNK",
          null,
          "RUS",
          null,
          null,
          null,
          null,
          null,
          null,
          null,
          "CHN",
          null,
          null,
          null,
          "SWE",
          "SWE",
          null,
          null,
          null,
          null,
          "USA",
          null,
          "PER",
          null,
          null,
          null,
          null,
          null,
          null,
          null,
          null,
          null,
          null,
          null,
          "ISR",
          null,
          "ISR",
          "EGY",
          "EGY",
          "IRN",
          null,
          null,
          null,
          null,
          null,
          "VEN",
          "VEN",
          null,
          null,
          null,
          null,
          null,
          null,
          null,
          "SWE",
          "SWE",
          null,
          null,
          "IND",
          null,
          null,
          null,
          "LBN",
          "PSE",
          null,
          null,
          "PER",
          "PER",
          "PSE",
          "PSE",
          null,
          null,
          null,
          null,
          null,
          null,
          null,
          null,
          null,
          null,
          "USA",
          "USA",
          "USA",
          "USA",
          null,
          null,
          null,
          null,
          null,
          null,
          "USA",
          "USA",
          null,
          null,
          "USA",
          "USA",
          null,
          null,
          null,
          null,
          null,
          null,
          "IDN",
          "IDN",
          null,
          null,
          null,
          null,
          null,
          null,
          "IRN",
          "IRN",
          null,
          null,
          "SEN",
          "USA",
          "RUS",
          "RUS",
          null,
          null,
          "IRL",
          null,
          null,
          "IRL",
          null,
          null,
          "BLR",
          null,
          "USA",
          "ISR",
          "ISR",
          null,
          null,
          null,
          null,
          null,
          "IND",
          "ISR",
          "ISR",
          null,
          "USA",
          null,
          null,
          null,
          "USA",
          "USA",
          null,
          null,
          null,
          null,
          null,
          null,
          "USA",
          null,
          null,
          null,
          null,
          null,
          null,
          null,
          null,
          null,
          "PAK",
          null,
          null,
          "IND",
          "IND",
          null,
          null,
          null,
          null,
          null,
          "TUR",
          "TUR",
          "TUR",
          "USA",
          "USA",
          "USA",
          "TUR",
          null,
          null,
          null,
          null,
          null,
          null,
          "IRN",
          null,
          null,
          null,
          "IRN",
          "IRN",
          null,
          null,
          null,
          null,
          "TWN",
          null,
          null,
          null,
          null,
          null,
          null,
          null,
          "CHL",
          null,
          null
         ],
         "xaxis": "x",
         "yaxis": "y"
        }
       ],
       "layout": {
        "barmode": "relative",
        "legend": {
         "title": {
          "text": "CAMEOCodeDescription"
         },
         "tracegroupgap": 0
        },
        "margin": {
         "t": 60
        },
        "template": {
         "data": {
          "bar": [
           {
            "error_x": {
             "color": "#2a3f5f"
            },
            "error_y": {
             "color": "#2a3f5f"
            },
            "marker": {
             "line": {
              "color": "#E5ECF6",
              "width": 0.5
             },
             "pattern": {
              "fillmode": "overlay",
              "size": 10,
              "solidity": 0.2
             }
            },
            "type": "bar"
           }
          ],
          "barpolar": [
           {
            "marker": {
             "line": {
              "color": "#E5ECF6",
              "width": 0.5
             },
             "pattern": {
              "fillmode": "overlay",
              "size": 10,
              "solidity": 0.2
             }
            },
            "type": "barpolar"
           }
          ],
          "carpet": [
           {
            "aaxis": {
             "endlinecolor": "#2a3f5f",
             "gridcolor": "white",
             "linecolor": "white",
             "minorgridcolor": "white",
             "startlinecolor": "#2a3f5f"
            },
            "baxis": {
             "endlinecolor": "#2a3f5f",
             "gridcolor": "white",
             "linecolor": "white",
             "minorgridcolor": "white",
             "startlinecolor": "#2a3f5f"
            },
            "type": "carpet"
           }
          ],
          "choropleth": [
           {
            "colorbar": {
             "outlinewidth": 0,
             "ticks": ""
            },
            "type": "choropleth"
           }
          ],
          "contour": [
           {
            "colorbar": {
             "outlinewidth": 0,
             "ticks": ""
            },
            "colorscale": [
             [
              0,
              "#0d0887"
             ],
             [
              0.1111111111111111,
              "#46039f"
             ],
             [
              0.2222222222222222,
              "#7201a8"
             ],
             [
              0.3333333333333333,
              "#9c179e"
             ],
             [
              0.4444444444444444,
              "#bd3786"
             ],
             [
              0.5555555555555556,
              "#d8576b"
             ],
             [
              0.6666666666666666,
              "#ed7953"
             ],
             [
              0.7777777777777778,
              "#fb9f3a"
             ],
             [
              0.8888888888888888,
              "#fdca26"
             ],
             [
              1,
              "#f0f921"
             ]
            ],
            "type": "contour"
           }
          ],
          "contourcarpet": [
           {
            "colorbar": {
             "outlinewidth": 0,
             "ticks": ""
            },
            "type": "contourcarpet"
           }
          ],
          "heatmap": [
           {
            "colorbar": {
             "outlinewidth": 0,
             "ticks": ""
            },
            "colorscale": [
             [
              0,
              "#0d0887"
             ],
             [
              0.1111111111111111,
              "#46039f"
             ],
             [
              0.2222222222222222,
              "#7201a8"
             ],
             [
              0.3333333333333333,
              "#9c179e"
             ],
             [
              0.4444444444444444,
              "#bd3786"
             ],
             [
              0.5555555555555556,
              "#d8576b"
             ],
             [
              0.6666666666666666,
              "#ed7953"
             ],
             [
              0.7777777777777778,
              "#fb9f3a"
             ],
             [
              0.8888888888888888,
              "#fdca26"
             ],
             [
              1,
              "#f0f921"
             ]
            ],
            "type": "heatmap"
           }
          ],
          "heatmapgl": [
           {
            "colorbar": {
             "outlinewidth": 0,
             "ticks": ""
            },
            "colorscale": [
             [
              0,
              "#0d0887"
             ],
             [
              0.1111111111111111,
              "#46039f"
             ],
             [
              0.2222222222222222,
              "#7201a8"
             ],
             [
              0.3333333333333333,
              "#9c179e"
             ],
             [
              0.4444444444444444,
              "#bd3786"
             ],
             [
              0.5555555555555556,
              "#d8576b"
             ],
             [
              0.6666666666666666,
              "#ed7953"
             ],
             [
              0.7777777777777778,
              "#fb9f3a"
             ],
             [
              0.8888888888888888,
              "#fdca26"
             ],
             [
              1,
              "#f0f921"
             ]
            ],
            "type": "heatmapgl"
           }
          ],
          "histogram": [
           {
            "marker": {
             "pattern": {
              "fillmode": "overlay",
              "size": 10,
              "solidity": 0.2
             }
            },
            "type": "histogram"
           }
          ],
          "histogram2d": [
           {
            "colorbar": {
             "outlinewidth": 0,
             "ticks": ""
            },
            "colorscale": [
             [
              0,
              "#0d0887"
             ],
             [
              0.1111111111111111,
              "#46039f"
             ],
             [
              0.2222222222222222,
              "#7201a8"
             ],
             [
              0.3333333333333333,
              "#9c179e"
             ],
             [
              0.4444444444444444,
              "#bd3786"
             ],
             [
              0.5555555555555556,
              "#d8576b"
             ],
             [
              0.6666666666666666,
              "#ed7953"
             ],
             [
              0.7777777777777778,
              "#fb9f3a"
             ],
             [
              0.8888888888888888,
              "#fdca26"
             ],
             [
              1,
              "#f0f921"
             ]
            ],
            "type": "histogram2d"
           }
          ],
          "histogram2dcontour": [
           {
            "colorbar": {
             "outlinewidth": 0,
             "ticks": ""
            },
            "colorscale": [
             [
              0,
              "#0d0887"
             ],
             [
              0.1111111111111111,
              "#46039f"
             ],
             [
              0.2222222222222222,
              "#7201a8"
             ],
             [
              0.3333333333333333,
              "#9c179e"
             ],
             [
              0.4444444444444444,
              "#bd3786"
             ],
             [
              0.5555555555555556,
              "#d8576b"
             ],
             [
              0.6666666666666666,
              "#ed7953"
             ],
             [
              0.7777777777777778,
              "#fb9f3a"
             ],
             [
              0.8888888888888888,
              "#fdca26"
             ],
             [
              1,
              "#f0f921"
             ]
            ],
            "type": "histogram2dcontour"
           }
          ],
          "mesh3d": [
           {
            "colorbar": {
             "outlinewidth": 0,
             "ticks": ""
            },
            "type": "mesh3d"
           }
          ],
          "parcoords": [
           {
            "line": {
             "colorbar": {
              "outlinewidth": 0,
              "ticks": ""
             }
            },
            "type": "parcoords"
           }
          ],
          "pie": [
           {
            "automargin": true,
            "type": "pie"
           }
          ],
          "scatter": [
           {
            "fillpattern": {
             "fillmode": "overlay",
             "size": 10,
             "solidity": 0.2
            },
            "type": "scatter"
           }
          ],
          "scatter3d": [
           {
            "line": {
             "colorbar": {
              "outlinewidth": 0,
              "ticks": ""
             }
            },
            "marker": {
             "colorbar": {
              "outlinewidth": 0,
              "ticks": ""
             }
            },
            "type": "scatter3d"
           }
          ],
          "scattercarpet": [
           {
            "marker": {
             "colorbar": {
              "outlinewidth": 0,
              "ticks": ""
             }
            },
            "type": "scattercarpet"
           }
          ],
          "scattergeo": [
           {
            "marker": {
             "colorbar": {
              "outlinewidth": 0,
              "ticks": ""
             }
            },
            "type": "scattergeo"
           }
          ],
          "scattergl": [
           {
            "marker": {
             "colorbar": {
              "outlinewidth": 0,
              "ticks": ""
             }
            },
            "type": "scattergl"
           }
          ],
          "scattermapbox": [
           {
            "marker": {
             "colorbar": {
              "outlinewidth": 0,
              "ticks": ""
             }
            },
            "type": "scattermapbox"
           }
          ],
          "scatterpolar": [
           {
            "marker": {
             "colorbar": {
              "outlinewidth": 0,
              "ticks": ""
             }
            },
            "type": "scatterpolar"
           }
          ],
          "scatterpolargl": [
           {
            "marker": {
             "colorbar": {
              "outlinewidth": 0,
              "ticks": ""
             }
            },
            "type": "scatterpolargl"
           }
          ],
          "scatterternary": [
           {
            "marker": {
             "colorbar": {
              "outlinewidth": 0,
              "ticks": ""
             }
            },
            "type": "scatterternary"
           }
          ],
          "surface": [
           {
            "colorbar": {
             "outlinewidth": 0,
             "ticks": ""
            },
            "colorscale": [
             [
              0,
              "#0d0887"
             ],
             [
              0.1111111111111111,
              "#46039f"
             ],
             [
              0.2222222222222222,
              "#7201a8"
             ],
             [
              0.3333333333333333,
              "#9c179e"
             ],
             [
              0.4444444444444444,
              "#bd3786"
             ],
             [
              0.5555555555555556,
              "#d8576b"
             ],
             [
              0.6666666666666666,
              "#ed7953"
             ],
             [
              0.7777777777777778,
              "#fb9f3a"
             ],
             [
              0.8888888888888888,
              "#fdca26"
             ],
             [
              1,
              "#f0f921"
             ]
            ],
            "type": "surface"
           }
          ],
          "table": [
           {
            "cells": {
             "fill": {
              "color": "#EBF0F8"
             },
             "line": {
              "color": "white"
             }
            },
            "header": {
             "fill": {
              "color": "#C8D4E3"
             },
             "line": {
              "color": "white"
             }
            },
            "type": "table"
           }
          ]
         },
         "layout": {
          "annotationdefaults": {
           "arrowcolor": "#2a3f5f",
           "arrowhead": 0,
           "arrowwidth": 1
          },
          "autotypenumbers": "strict",
          "coloraxis": {
           "colorbar": {
            "outlinewidth": 0,
            "ticks": ""
           }
          },
          "colorscale": {
           "diverging": [
            [
             0,
             "#8e0152"
            ],
            [
             0.1,
             "#c51b7d"
            ],
            [
             0.2,
             "#de77ae"
            ],
            [
             0.3,
             "#f1b6da"
            ],
            [
             0.4,
             "#fde0ef"
            ],
            [
             0.5,
             "#f7f7f7"
            ],
            [
             0.6,
             "#e6f5d0"
            ],
            [
             0.7,
             "#b8e186"
            ],
            [
             0.8,
             "#7fbc41"
            ],
            [
             0.9,
             "#4d9221"
            ],
            [
             1,
             "#276419"
            ]
           ],
           "sequential": [
            [
             0,
             "#0d0887"
            ],
            [
             0.1111111111111111,
             "#46039f"
            ],
            [
             0.2222222222222222,
             "#7201a8"
            ],
            [
             0.3333333333333333,
             "#9c179e"
            ],
            [
             0.4444444444444444,
             "#bd3786"
            ],
            [
             0.5555555555555556,
             "#d8576b"
            ],
            [
             0.6666666666666666,
             "#ed7953"
            ],
            [
             0.7777777777777778,
             "#fb9f3a"
            ],
            [
             0.8888888888888888,
             "#fdca26"
            ],
            [
             1,
             "#f0f921"
            ]
           ],
           "sequentialminus": [
            [
             0,
             "#0d0887"
            ],
            [
             0.1111111111111111,
             "#46039f"
            ],
            [
             0.2222222222222222,
             "#7201a8"
            ],
            [
             0.3333333333333333,
             "#9c179e"
            ],
            [
             0.4444444444444444,
             "#bd3786"
            ],
            [
             0.5555555555555556,
             "#d8576b"
            ],
            [
             0.6666666666666666,
             "#ed7953"
            ],
            [
             0.7777777777777778,
             "#fb9f3a"
            ],
            [
             0.8888888888888888,
             "#fdca26"
            ],
            [
             1,
             "#f0f921"
            ]
           ]
          },
          "colorway": [
           "#636efa",
           "#EF553B",
           "#00cc96",
           "#ab63fa",
           "#FFA15A",
           "#19d3f3",
           "#FF6692",
           "#B6E880",
           "#FF97FF",
           "#FECB52"
          ],
          "font": {
           "color": "#2a3f5f"
          },
          "geo": {
           "bgcolor": "white",
           "lakecolor": "white",
           "landcolor": "#E5ECF6",
           "showlakes": true,
           "showland": true,
           "subunitcolor": "white"
          },
          "hoverlabel": {
           "align": "left"
          },
          "hovermode": "closest",
          "mapbox": {
           "style": "light"
          },
          "paper_bgcolor": "white",
          "plot_bgcolor": "#E5ECF6",
          "polar": {
           "angularaxis": {
            "gridcolor": "white",
            "linecolor": "white",
            "ticks": ""
           },
           "bgcolor": "#E5ECF6",
           "radialaxis": {
            "gridcolor": "white",
            "linecolor": "white",
            "ticks": ""
           }
          },
          "scene": {
           "xaxis": {
            "backgroundcolor": "#E5ECF6",
            "gridcolor": "white",
            "gridwidth": 2,
            "linecolor": "white",
            "showbackground": true,
            "ticks": "",
            "zerolinecolor": "white"
           },
           "yaxis": {
            "backgroundcolor": "#E5ECF6",
            "gridcolor": "white",
            "gridwidth": 2,
            "linecolor": "white",
            "showbackground": true,
            "ticks": "",
            "zerolinecolor": "white"
           },
           "zaxis": {
            "backgroundcolor": "#E5ECF6",
            "gridcolor": "white",
            "gridwidth": 2,
            "linecolor": "white",
            "showbackground": true,
            "ticks": "",
            "zerolinecolor": "white"
           }
          },
          "shapedefaults": {
           "line": {
            "color": "#2a3f5f"
           }
          },
          "ternary": {
           "aaxis": {
            "gridcolor": "white",
            "linecolor": "white",
            "ticks": ""
           },
           "baxis": {
            "gridcolor": "white",
            "linecolor": "white",
            "ticks": ""
           },
           "bgcolor": "#E5ECF6",
           "caxis": {
            "gridcolor": "white",
            "linecolor": "white",
            "ticks": ""
           }
          },
          "title": {
           "x": 0.05
          },
          "xaxis": {
           "automargin": true,
           "gridcolor": "white",
           "linecolor": "white",
           "ticks": "",
           "title": {
            "standoff": 15
           },
           "zerolinecolor": "white",
           "zerolinewidth": 2
          },
          "yaxis": {
           "automargin": true,
           "gridcolor": "white",
           "linecolor": "white",
           "ticks": "",
           "title": {
            "standoff": 15
           },
           "zerolinecolor": "white",
           "zerolinewidth": 2
          }
         }
        },
        "xaxis": {
         "anchor": "y",
         "domain": [
          0,
          1
         ],
         "title": {
          "text": "Actor1CountryCode"
         }
        },
        "yaxis": {
         "anchor": "x",
         "domain": [
          0,
          1
         ],
         "title": {
          "text": "count"
         }
        }
       }
      }
     },
     "metadata": {},
     "output_type": "display_data"
    }
   ],
   "source": [
    "fig = px.histogram(data_frame= int_cats, x=\"Actor1CountryCode\", color=\"CAMEOCodeDescription\")\n",
    "fig.show()\n"
   ]
  },
  {
   "cell_type": "code",
   "execution_count": 21,
   "metadata": {},
   "outputs": [
    {
     "name": "stdout",
     "output_type": "stream",
     "text": [
      "| GLOBALEVENTID   | SQLDATE   | MonthYear   | Year   | FractionDate   | Actor1Code   | Actor1Name   | Actor1CountryCode   | Actor1KnownGroupCode   | Actor1EthnicCode   | Actor1Religion1Code   | Actor1Religion2Code   | Actor1Type1Code   | Actor1Type2Code   | Actor1Type3Code   | Actor2Code   | Actor2Name   | Actor2CountryCode   | Actor2KnownGroupCode   | Actor2EthnicCode   | Actor2Religion1Code   | Actor2Religion2Code   | Actor2Type1Code   | Actor2Type2Code   | Actor2Type3Code   | IsRootEvent   | EventCode   | CAMEOCodeDescription   | EventBaseCode   | EventRootCode   | QuadClass   | GoldsteinScale   | NumMentions   | NumSources   | NumArticles   | AvgTone   | Actor1Geo_Type   | Actor1Geo_FullName   | Actor1Geo_CountryCode   | Actor1Geo_ADM1Code   | Actor1Geo_ADM2Code   | Actor1Geo_Lat   | Actor1Geo_Long   | Actor1Geo_FeatureID   | Actor2Geo_Type   | Actor2Geo_FullName   | Actor2Geo_CountryCode   | Actor2Geo_ADM1Code   | Actor2Geo_ADM2Code   | Actor2Geo_Lat   | Actor2Geo_Long   | Actor2Geo_FeatureID   | ActionGeo_Type   | ActionGeo_FullName   | ActionGeo_CountryCode   | ActionGeo_ADM1Code   | ActionGeo_ADM2Code   | ActionGeo_Lat   | ActionGeo_Long   | ActionGeo_FeatureID   | DATEADDED   | SOURCEURL   |\n",
      "|-----------------|-----------|-------------|--------|----------------|--------------|--------------|---------------------|------------------------|--------------------|-----------------------|-----------------------|-------------------|-------------------|-------------------|--------------|--------------|---------------------|------------------------|--------------------|-----------------------|-----------------------|-------------------|-------------------|-------------------|---------------|-------------|------------------------|-----------------|-----------------|-------------|------------------|---------------|--------------|---------------|-----------|------------------|----------------------|-------------------------|----------------------|----------------------|-----------------|------------------|-----------------------|------------------|----------------------|-------------------------|----------------------|----------------------|-----------------|------------------|-----------------------|------------------|----------------------|-------------------------|----------------------|----------------------|-----------------|------------------|-----------------------|-------------|-------------|\n"
     ]
    }
   ],
   "source": [
    "int_uk_cats = int_cats[(int_cats[\"Actor1CountryCode\"]==\"GBR\") | (int_cats[\"Actor1CountryCode\"]==\"GBR\") ]\n",
    "int_uk_nzcats = int_uk_cats[(int_uk_cats[\"Actor1Name\"].isin([\"ASYLUM SEEKER\", 'IMMIGRANT'])) | (int_uk_cats[\"Actor2Name\"].isin([\"ASYLUM SEEKER\", 'IMMIGRANT']))]\n",
    "print(int_uk_nzcats.to_markdown())"
   ]
  },
  {
   "cell_type": "code",
   "execution_count": null,
   "metadata": {},
   "outputs": [
    {
     "name": "stdout",
     "output_type": "stream",
     "text": [
      "[nan 'COMPANY' 'GOVERNMENT' 'UKRAINE' 'UKRAINIAN' 'CANADA' 'PRISON'\n",
      " 'SPAIN' 'PRINCE' 'NEWSPAPER' 'MEDIA' 'UNITED STATES' 'FULANI'\n",
      " 'UNITED KINGDOM' 'PRESIDENTIAL PALACE' 'VANCOUVER' 'OTTAWA' 'GANG'\n",
      " 'NETFLIX' 'AFGHANISTAN' 'TALIBAN' 'GERMANY' 'HOSPITAL' 'PROSECUTOR'\n",
      " 'ADVOCATE' 'PUBLICATION' 'BRITISH' 'LONDON' 'ALBANIAN' 'POLITY' 'IRAN'\n",
      " 'JAPAN' 'PAKISTAN' 'MINIST' 'BOSS' 'INDUSTRY' 'EUROPEAN' 'MOZAMBIQUE'\n",
      " 'FRIENDS OF THE EARTH' 'ACTIVIST' 'FRANCE' 'HOUSE OF COMMONS' 'MILITARY'\n",
      " 'MANCHESTER' 'MAYOR' 'JAMAICA' 'ARMED MEN' 'RUSSIA' 'POLICE'\n",
      " 'PRIME MINISTER' 'PARLIAMENT' 'NEWS AGENCY' 'GENEVA' 'SWITZERLAND'\n",
      " 'WALES' 'PRESIDENT' 'KING' 'QUEEN ELIZABETH II' 'BRITAIN' 'BARBADOS'\n",
      " 'SETTLEMENT' 'STUDENT' 'IRELAND' 'BATTLE TANK' 'SLOVAK REPUBLIC'\n",
      " 'THE WHITE HOUSE' 'JOE BIDEN' 'WASHINGTON' 'THE EU' 'RUSSIAN' 'SCOTLAND'\n",
      " 'SCOTTISH' 'COMMUNITY' 'AIRLINE' 'ADMINISTRATION' 'BANK' 'THE POPE'\n",
      " 'SCHOOL' 'EGYPT' 'EGYPTIAN' 'RIO TINTO' 'VATICAN' 'DEALER' 'GUJARAT'\n",
      " 'WORKER' 'SENATE' 'HIGH COURT' 'ARGENTINA' 'VILLAGE' 'FALKLANDS'\n",
      " 'URUGUAY' 'ISLE OF MAN' 'POLITICIAN' 'CREDIT UNION' 'BANGLADESH'\n",
      " 'CHRISTIAN' 'SCIENTIST' 'ARMED POLICE' 'JUSTICE MINISTER'\n",
      " 'DEFENCE SECRETARY' 'DEFENSE SECRETARY' 'FARMER' 'INVESTOR' 'PRAGUE'\n",
      " 'MALE' 'SRI LANKA' 'CATHOLIC' 'ANGLICAN' 'GUYANA' 'IRISH' 'ALABAMA'\n",
      " 'FINANCE MINIST' 'TEHRAN' 'AFRICA' 'AUSTRALIA' 'COLLEGE'\n",
      " 'ATTORNEY GENERAL' 'TURKEY' 'ALBERT' 'THAILAND' 'CHAO PHRAYA' 'BOLIVIA'\n",
      " 'FIJI' 'CHANCELLOR' 'EMPEROR' 'TRIBUNAL' 'BRAZIL' 'THIEVES' 'DUBLIN'\n",
      " 'NIGERIAN' 'NIGERIA' 'MOSCOW' 'DOWNING STREET' 'JUDGE' 'IRANIAN'\n",
      " 'POLICE CHIEF' 'ISRAELI' 'ISRAEL' 'FIGHTER JET' 'NORWAY' 'BISHOP'\n",
      " 'LOS ANGELES' 'AMERICAN' 'UNIVERSITY' 'JEWISH' 'ABDULLAH' 'EUROPE'\n",
      " 'MILITARY GROUP' 'LIVERPOOL' 'MALAYSIA' 'INTERPOL' 'WALL STREET JOURNAL'\n",
      " 'CORPORATION' 'ISLAMIC' 'WELSH' 'NEIGHBORHOOD' 'AUSTRALIAN' 'ACTOR'\n",
      " 'TRADER' 'NATO' 'COUNSEL' 'BELARUSIAN' 'PRODUCER' 'NAVY' 'CHAMBER'\n",
      " 'CINCINNATI' 'VIETNAM' 'MARI' 'SMALL TOWN' 'PARIS' 'PALESTINIAN' 'SYRIA'\n",
      " 'SAINT LUCIA' 'BUSINESS' 'COMPANIES' 'JAPANESE'\n",
      " 'AHMADIYYA MUSLIM COMMUNITY' 'ASYLUM SEEKER' 'REPRESENTATIVES'\n",
      " 'PROFESSOR' 'PREMIER' 'CONGRESS' 'PFIZER' 'INSURGENT GROUP' 'KYIV'\n",
      " 'EUROPEAN COMMISSION' 'MIGRANT' 'CANADIAN' 'ALBERTA' 'SECRETARY OF STATE'\n",
      " 'WEBSITE' 'EDINBURGH' 'BIRMINGHAM' 'MEMBER OF PARLIAMENT' 'ALASKA'\n",
      " 'THERESA MAY' 'NEW YORK' 'CENTRAL BANK' 'MICHAEL COLLINS' 'PUBLISHER'\n",
      " 'NORTH KOREAN' 'NORTH KOREA' 'POLICE OFFICER' 'DOCTOR'\n",
      " 'FOREIGN SECRETARY' 'CHINESE' 'REPUBLIC OF SOUTH AFRICA' 'JORDAN'\n",
      " 'BERMUDA' 'GERMAN' 'PRIVY COUNCIL' 'CRIMINAL' 'GREAT BRITAIN' 'CABINET'\n",
      " 'THE US' 'PERTH' 'FRENCH' 'LITHUANIA' 'DOHA' 'ARMY' 'JOURNALIST' 'SYDNEY'\n",
      " 'SERIAL KILLER' 'THE EUROPEAN UNION' 'ITALY' 'MUSLIM' 'PRISONER'\n",
      " 'RESIDENTS' 'HINDU' 'COLONEL' 'CHINA' 'WUHAN' 'JOHN MAJOR' 'STRATHCLYDE'\n",
      " 'INDIGENOUS' 'GLASGOW' 'COLOMBIA' 'SECRETARIAT'\n",
      " 'INTERNATIONAL MARITIME ORGANIZATION' 'MEXICO' 'REFUGEE' 'TATA STEEL'\n",
      " 'MURRAY' 'BNP PARIBAS' 'NEW ZEALAND' 'ROLLS ROYCE' 'MALAWI' 'RWANDA'\n",
      " 'SALISBURY' 'ARIANA' 'ETHNIC MINORITY' 'CHIEF EXECUTIVE'\n",
      " 'TRANSPORT MINIST' 'PARLIAMENT HOUSE' 'SENATOR' 'ZIMBABWE' 'CALIFORNIA'\n",
      " 'MELBOURNE' 'DENMARK' 'DANISH' 'IRAQI' 'GRENADA' 'GOOGLE' 'PHILIPPINE'\n",
      " 'UNHCR' 'DUBAI' 'BUENOS AIRES' 'WRITER' 'CONSTABLE' 'DEPUTY'\n",
      " 'SECURITY COUNCIL' 'PRAIA' 'WALGREEN' 'UIGHUR' 'ALBANIA' 'NEW HAMPSHIRE'\n",
      " 'BELGIUM' 'BAHRAIN' 'EMPLOYEE' 'LIEUTENANT' 'HOLLAND' 'INTELLIGENCE'\n",
      " 'ARIZONA' 'GREEK' 'MUMBAI' 'GAZETTE' 'PERPETRATOR' 'FIGHTER' 'NASHVILLE'\n",
      " 'IMMIGRANT' 'TLINGIT' 'SOFIA' 'VICTORIA' 'LANDLORD' 'PIRATE' 'TOURIST'\n",
      " 'SPANIARD' 'DENVER' 'TENANTS' 'GROUP OF SEVEN' 'ROME' 'OSLO' 'TEL AVIV'\n",
      " 'RABBI' 'PUPIL' 'BRITISH VIRGIN ISLANDS' 'MANIPUR' 'FEDERAL COURT'\n",
      " 'REUTERS' 'AGENCE FRANCE PRESS' 'AZERBAIJAN' 'BAKU' 'TIM HORTONS'\n",
      " 'FIRST LADY' 'PHYSICIAN' 'POLAND' 'VOTER' 'MILITANT'\n",
      " 'DEPARTMENT OF DEFENSE' 'CAPE TOWN' 'WARSHIP' 'KANSAS' 'BUSINESS LEADER'\n",
      " 'MAGAZINE' 'LLOYDS BANKING' 'PORT VILA' 'BILL CLINTON'\n",
      " 'EDUCATION SECRETARY' 'SURGEON' 'THE NETHERLAND' 'MINORITIES'\n",
      " 'POLITICAL PARTIES' 'RELIGION' 'VANUATU' 'QUEENSLAND' 'PRESS ASSOCIATION'\n",
      " 'ARMED FORCES' 'VLADIMIR PUTIN' 'BARCELONA' 'REFORMER' 'CRIMEA' 'SEVILLA'\n",
      " 'DISNEY' 'DISSIDENT' 'DELAWARE' 'PORT SUDAN' 'AUSTRIA' 'SPANISH'\n",
      " 'GIBRALTAR' 'NEIGHBOURHOOD' 'SUDAN' 'KATHMANDU' 'ARCHBISHOP' 'LAWYER'\n",
      " 'CHARLOTTE' 'CALGARY' 'CONGRESSWOMAN' 'PORTUGAL' 'SINGAPORE' 'FLORIDA'\n",
      " 'COMMENTATOR' 'WEST INDIES' 'PAKISTANI' 'CALAIS' 'DIPLOMAT' 'THE UN'\n",
      " 'PROTEST GROUP' 'NORTH WEST' 'SOVEREIGN' 'ATTORNEY' 'SOUTH KOREA'\n",
      " 'PALESTINE' 'ICELAND' 'ESTONIAN' 'ESTONIA' 'SHONA' 'AUSSIE' 'SWISS'\n",
      " 'LIBERIA' 'SIERRA LEONE' 'NAVAL BASE' 'CONNECTICUT' 'SCOTSMAN' 'UNIONS'\n",
      " 'GHANA' 'MOROCCO' 'MOHAMMED VI' 'TELEVISION' 'PUNJABI'\n",
      " 'MILITARY PERSONNEL' 'MILITARY FORCE' 'GAZA' 'SUDANESE' 'JERSEY'\n",
      " 'ONTARIO' 'HEAD OF STATE' 'ST HELENA' 'NURSE' 'CITY MANAGER' 'TESCO'\n",
      " 'NORWEGIAN' 'COOK ISLANDS' 'REPATRIATE' 'ACADEMICS' 'INTELLECTUAL'\n",
      " 'FOREIGN CORRESPONDENT' 'EXTREMIST' 'DONBAS' 'ECUADOR' 'QUITO' 'ETHIOPIA'\n",
      " 'ETHIOPIAN' 'URUGUAYAN' 'CITIZEN' 'CONSERVATIONIST' 'DAVID CAMERON'\n",
      " 'JEREMY HUNT' 'REGIME' 'TAIWAN' 'GUINEA' 'AUTHORITIES' 'PAEDOPHILE'\n",
      " 'HIROSHIMA' 'MEXICAN' 'AIR FORCE' 'WOMEN OF VISION' 'SECURITY OFFICER'\n",
      " 'GALWAY' 'SATANISM' 'MAJOR GENERAL' 'TOKYO' 'NEPAL' 'CARITAS' 'VIRGINIA'\n",
      " 'AMBASSADOR' 'TABLOID' 'PARTY LEADER' 'MICROSOFT' 'SAGA' 'CARRIER'\n",
      " 'TUNISIA' 'KENTUCKY' 'CHIEF OF STAFF' 'AMSTERDAM' 'UNITED NATIONS'\n",
      " 'SWEDEN' 'CAPTAIN' 'ZAMBIA' 'POLICE CONSTABLE' 'HOUSE SPEAKER' 'MOLDOVA'\n",
      " 'NETHERLANDS' 'INDIGENOUS PEOPLE' 'GAMBIA' 'COURT JUDGE' 'POLISH'\n",
      " 'UN SECURITY COUNCIL' 'POLITICAL PARTY' 'POPULATION' 'MAGISTRATE' 'KIWI'\n",
      " 'PERU' 'PRESIDENTIAL CANDIDATE' 'OVAL OFFICE' 'TURKMENISTAN'\n",
      " 'DEFENCE MINIST' 'GOMA' 'NAVAL' 'BOSTON' 'POLE' 'MONTANA' 'ARMENIA'\n",
      " 'VILLAGER' 'IRAQ' 'AMNESTY INTERNATIONAL' 'CALIF' 'THE ASSOCIATED PRESS'\n",
      " 'CORNISH' 'SEX WORKER' 'NEVADA' 'DELEGATE' 'METHODIST' 'STARBUCKS'\n",
      " 'DETROIT' 'FOREIGN MINIST' 'THE POOR' 'TOYOTA' 'HYUNDAI' 'JAMAICAN'\n",
      " 'EMPLOYER' 'FIREFIGHTER' 'CORRESPONDENT' 'ARMY OFFICER' 'TERRORIST'\n",
      " 'TONY BLAIR' 'HEALTH MINIST' 'LABOUR MINIST' 'CHERNOBYL' 'LOUISVILLE'\n",
      " 'DANE' 'INDIANA' 'GHANAIAN' 'MILITARY BASE' 'MINIST OF DEFENCE'\n",
      " 'AEROSPACE' 'TRAVELLER' 'CONSTITUENT' 'KATSINA' 'KIGALI' 'SIERRA LEONEAN'\n",
      " 'UNITED ARAB EMIRATES' 'AUSTIN' 'DEPUTIES' 'SAMSUNG' 'MASTERCARD'\n",
      " 'ANGOLA' 'ZIMBABWEAN' 'APACHE' \"COTE D'IVOIRE\" 'FINLAND' 'PRIEST'\n",
      " 'NORTH CAROLINA' 'LIMA' 'SOUTHEAST ASIA' 'HEALTH PROFESSIONAL' 'RYANAIR'\n",
      " 'CARDIFF' 'FINNISH' 'MAINE' 'APPEALS COURT' 'ROMANIA' 'MEMBER NATION'\n",
      " 'NATIVE AMERICAN' 'CHICAGO' 'SELANGOR' 'LAS VEGAS' 'ILLINOIS'\n",
      " 'IMPERIAL OIL' 'MATTEL' 'PROTESTER' 'DOMINICAN' 'VODAFONE' 'SAINT'\n",
      " 'TRADE UNION' 'LEGISLATURE' 'BRIGADIER GENERAL' 'ARGENTINEAN' 'MALIAN'\n",
      " 'TERRORIST ORGANIZATION' 'OREGON' 'ASSOCIATED PRESS'\n",
      " 'GOVERNMENT OFFICIAL' 'ARGOS' 'RHODES' 'WATERLOO' 'MONARCH' 'CYPRIOT'\n",
      " 'GREECE' 'RICHMOND' 'ACCRA' 'NIGER' 'NAMIBIA' 'WELLINGTON' 'PRETORIA'\n",
      " 'LECTURER' 'LYON' 'ERITREAN' 'NATIONAL SECURITY ADVISOR' 'POLICEMAN'\n",
      " 'FOREIGN OFFICE' 'PREACHER' 'BRUSSELS' 'SOUTH AFRICAN' 'AFGHAN'\n",
      " 'BULGARIA' 'SMUGGLER' 'VIENNA' 'SYRIAN' 'DISTRICT COURT' 'REGULATOR'\n",
      " 'STUTTGART' 'GOVERNOR' 'ENGINEER' 'STAFF MEMBER' 'TRADE MINIST'\n",
      " 'COMMERCE MINIST' 'JAIPUR' 'GEORGE OSBORNE' 'PLANNING COMMISSION'\n",
      " 'CAMBODIA' 'SAN FRANCISCO' 'ADELAIDE' 'FINANCIAL SECRETARY' 'KENYA'\n",
      " 'KUWAIT' 'AUSTRIAN' 'COPENHAGEN' 'COMMANDER' 'POLICE FORCE' 'LEGISLATOR'\n",
      " 'SAUDI ARABIA' 'MALI' 'DINESH GUNAWARDENA' 'THE OPPOSITION'\n",
      " 'ADVISORY BOARD' 'BOGOTA' 'GUERNSEY' 'THE SECURITY COUNCIL' 'YEMEN'\n",
      " 'GENT' 'ROYAL PALACE' 'D COMPANY' 'PUBLIC SECTOR' 'LAHORE' 'BRAZILIAN'\n",
      " 'INDONESIA' 'BLACKROCK' 'REBELLION' 'MIAMI' 'AUCKLAND' 'DEMONSTRATOR'\n",
      " 'SIKH' 'CANNES' 'DONETSK' 'PEDOPHILE' 'BLOG' 'ENTREPRENEUR'\n",
      " 'ENVIRONMENTALIST' 'KILLERS' 'REGIMENT' 'SCHOLAR' 'MICHAEL GOVE'\n",
      " 'SEPARATIST' 'HANOI' 'TELECOM' 'NEW DELHI' 'HAMAS' 'LANDOWNER'\n",
      " 'ANGLICAN COMMUNION' 'QATAR' 'VIETNAMESE' 'LEGISLATIVE ASSEMBLY'\n",
      " 'CABINET MINISTER' 'DAKOTA' 'RED CROSS' 'PARTY MEMBER' 'LAWRENCE'\n",
      " 'MINISTRY' 'MAURITIUS' 'ITALIA' 'SOMALI' 'KABUL' 'PHOENIX'\n",
      " 'ELBIT SYSTEMS' 'COAST GUARD' 'ORLANDO' 'BEIJING' 'NILE' 'KIKUYU' 'SABAH'\n",
      " 'CLERGYMAN' 'CHILE' 'RETIRED' 'BARCLAYS PLC' 'MAIN OPPOSITION' 'TORONTO'\n",
      " 'MINIST FOR HIGHER EDUCATION' 'NELSON MANDELA' 'ARM HOLDINGS' 'OLYMPUS'\n",
      " 'HAITI' 'HOUSTON' 'VENETIA' 'EXTERNAL AFFAIRS MINIST' 'HUNGARY' 'MALTA'\n",
      " 'MADRID' 'JAIN' 'RALEIGH' 'BOEING' 'CIVILIAN' 'AMIT' 'DESMOND TUTU'\n",
      " 'EUROPEAN UNION' 'THE WB' 'NAGALAND' 'WORLD ECONOMIC FORUM']\n"
     ]
    }
   ],
   "source": [
    "print(results[results[\"Actor1CountryCode\"]==\"GBR\"][\"Actor2Name\"].unique())"
   ]
  },
  {
   "cell_type": "code",
   "execution_count": null,
   "metadata": {},
   "outputs": [
    {
     "name": "stdout",
     "output_type": "stream",
     "text": [
      "(9, 62)\n",
      "|        |   GLOBALEVENTID |   SQLDATE |   MonthYear |   Year |   FractionDate | Actor1Code   | Actor1Name   | Actor1CountryCode   |   Actor1KnownGroupCode |   Actor1EthnicCode |   Actor1Religion1Code |   Actor1Religion2Code |   Actor1Type1Code |   Actor1Type2Code |   Actor1Type3Code | Actor2Code   | Actor2Name   |   Actor2CountryCode |   Actor2KnownGroupCode |   Actor2EthnicCode |   Actor2Religion1Code |   Actor2Religion2Code | Actor2Type1Code   |   Actor2Type2Code |   Actor2Type3Code |   IsRootEvent |   EventCode | CAMEOCodeDescription                           |   EventBaseCode |   EventRootCode |   QuadClass |   GoldsteinScale |   NumMentions |   NumSources |   NumArticles |   AvgTone |   Actor1Geo_Type | Actor1Geo_FullName                      | Actor1Geo_CountryCode   | Actor1Geo_ADM1Code   |   Actor1Geo_ADM2Code |   Actor1Geo_Lat |   Actor1Geo_Long |   Actor1Geo_FeatureID |   Actor2Geo_Type | Actor2Geo_FullName                      | Actor2Geo_CountryCode   | Actor2Geo_ADM1Code   |   Actor2Geo_ADM2Code |   Actor2Geo_Lat |   Actor2Geo_Long |   Actor2Geo_FeatureID |   ActionGeo_Type | ActionGeo_FullName                      | ActionGeo_CountryCode   | ActionGeo_ADM1Code   |   ActionGeo_ADM2Code |   ActionGeo_Lat |   ActionGeo_Long |   ActionGeo_FeatureID |      DATEADDED | SOURCEURL                                                                                            |\n",
      "|-------:|----------------:|----------:|------------:|-------:|---------------:|:-------------|:-------------|:--------------------|-----------------------:|-------------------:|----------------------:|----------------------:|------------------:|------------------:|------------------:|:-------------|:-------------|--------------------:|-----------------------:|-------------------:|----------------------:|----------------------:|:------------------|------------------:|------------------:|--------------:|------------:|:-----------------------------------------------|----------------:|----------------:|------------:|-----------------:|--------------:|-------------:|--------------:|----------:|-----------------:|:----------------------------------------|:------------------------|:---------------------|---------------------:|----------------:|-----------------:|----------------------:|-----------------:|:----------------------------------------|:------------------------|:---------------------|---------------------:|----------------:|-----------------:|----------------------:|-----------------:|:----------------------------------------|:------------------------|:---------------------|---------------------:|----------------:|-----------------:|----------------------:|---------------:|:-----------------------------------------------------------------------------------------------------|\n",
      "| 268645 |      1128878413 |  20230923 |      202309 |   2023 |        2023.72 | GBR          | LONDON       | GBR                 |                    nan |                nan |                   nan |                   nan |               nan |               nan |               nan | GOV          | GOVERNMENT   |                 nan |                    nan |                nan |                   nan |                   nan | GOV               |               nan |               nan |             1 |         140 | Engage in popular protest, not specified below |             140 |              14 |           3 |             -6.5 |            10 |            1 |            10 |  -6.01504 |                4 | London, London, City of, United Kingdom | UK                      | UKH9                 |                40110 |            51.5 |        -0.116667 |              -2601889 |                4 | London, London, City of, United Kingdom | UK                      | UKH9                 |                40110 |            51.5 |        -0.116667 |              -2601889 |                4 | London, London, City of, United Kingdom | UK                      | UKH9                 |                40110 |            51.5 |        -0.116667 |              -2601889 | 20230923234500 | https://www.kentonline.co.uk/gravesend/news/xl-bully-owner-joins-thousands-at-anti-ban-rally-293974/ |\n"
     ]
    }
   ],
   "source": [
    "print(int_uk_cats.shape)\n",
    "print(int_uk_cats[int_uk_cats[\"GLOBALEVENTID\"]==1128878413].to_markdown())"
   ]
  },
  {
   "cell_type": "code",
   "execution_count": null,
   "metadata": {},
   "outputs": [],
   "source": []
  },
  {
   "cell_type": "code",
   "execution_count": null,
   "metadata": {},
   "outputs": [],
   "source": [
    "if \"Actor1Name\" in ['EXTREMIST', 'TERRORIST ORGANIZATION'] or [\"Actor1Name\"]\n",
    "'EXTREMIST' 'POLICE FORCE' 'TERRORIST ORGANIZATION' 'MINORITIES'  'IMMIGRANT' 'GREAT BRITAIN' 'ASYLUM SEEKER' 'ISLAMIC''JEWISH'"
   ]
  }
 ],
 "metadata": {
  "kernelspec": {
   "display_name": "GDeltEnv",
   "language": "python",
   "name": "python3"
  },
  "language_info": {
   "codemirror_mode": {
    "name": "ipython",
    "version": 3
   },
   "file_extension": ".py",
   "mimetype": "text/x-python",
   "name": "python",
   "nbconvert_exporter": "python",
   "pygments_lexer": "ipython3",
   "version": "3.11.7"
  }
 },
 "nbformat": 4,
 "nbformat_minor": 2
}
